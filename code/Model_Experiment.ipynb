{
 "cells": [
  {
   "cell_type": "code",
   "execution_count": 1,
   "metadata": {},
   "outputs": [],
   "source": [
    "import tensorflow as tf\n",
    "import numpy as np\n",
    "import os, sys\n",
    "import time\n",
    "from tqdm import tqdm\n",
    "import time\n",
    "import pickle\n",
    "import gensim\n",
    "from sklearn.metrics.pairwise import cosine_similarity"
   ]
  },
  {
   "cell_type": "code",
   "execution_count": 5,
   "metadata": {},
   "outputs": [],
   "source": [
    "import language_model as model"
   ]
  },
  {
   "cell_type": "code",
   "execution_count": 6,
   "metadata": {},
   "outputs": [],
   "source": [
    "lm = model.LanguageModel()"
   ]
  },
  {
   "cell_type": "code",
   "execution_count": 7,
   "metadata": {},
   "outputs": [
    {
     "name": "stdout",
     "output_type": "stream",
     "text": [
      "data loaded.\n"
     ]
    }
   ],
   "source": [
    "lm.load_dataset('../data/wikinews/wiki_train.pkl', '../data/wikinews/wiki_test.pkl', '../data/wikinews/word_vocab.pkl')"
   ]
  },
  {
   "cell_type": "code",
   "execution_count": 8,
   "metadata": {},
   "outputs": [
    {
     "name": "stdout",
     "output_type": "stream",
     "text": [
      "INFO:tensorflow:Restoring parameters from ../model/wikinews/Language_model/last\n"
     ]
    }
   ],
   "source": [
    "with tf.Session() as sess :\n",
    "    lm.load_graph(sess, '../model/wikinews/Language_model/last')\n",
    "    word_embeddings = lm.get_embeddings(sess)"
   ]
  },
  {
   "cell_type": "code",
   "execution_count": 9,
   "metadata": {},
   "outputs": [],
   "source": [
    "with open('../data/wikinews/word_vocab.pkl', 'rb') as f :\n",
    "    word_vocab = pickle.load(f)"
   ]
  },
  {
   "cell_type": "code",
   "execution_count": 10,
   "metadata": {},
   "outputs": [],
   "source": [
    "word_dict = dict(word_vocab)"
   ]
  },
  {
   "cell_type": "code",
   "execution_count": 11,
   "metadata": {},
   "outputs": [],
   "source": [
    "reverse_word_dict = {v : k for k, v in word_dict.items()}"
   ]
  },
  {
   "cell_type": "code",
   "execution_count": 12,
   "metadata": {},
   "outputs": [],
   "source": [
    "# distnace_matrix = cosine_similarity(word_embeddings)   ### 메모리를 너무 많이 먹음"
   ]
  },
  {
   "cell_type": "code",
   "execution_count": 13,
   "metadata": {},
   "outputs": [],
   "source": [
    "def get_closest_word(word, n_words = 5) :\n",
    "    if word not in word_dict.keys() :\n",
    "        print('OOV word is entered.')\n",
    "        return None\n",
    "    word_index = word_dict[word]\n",
    "    similarities = cosine_similarity(word_embeddings[word_index:word_index + 1], word_embeddings).reshape(-1)\n",
    "    most_n_similar_index = similarities.argsort()[::-1][1:n_words + 1]\n",
    "    for index in most_n_similar_index :\n",
    "        print(reverse_word_dict[index])"
   ]
  },
  {
   "cell_type": "code",
   "execution_count": 17,
   "metadata": {},
   "outputs": [
    {
     "name": "stdout",
     "output_type": "stream",
     "text": [
      "fling\n",
      "abandoned\n",
      "crepad\n",
      "listening\n",
      "timescales\n"
     ]
    }
   ],
   "source": [
    "get_closest_word('hello')"
   ]
  },
  {
   "cell_type": "code",
   "execution_count": null,
   "metadata": {},
   "outputs": [],
   "source": []
  }
 ],
 "metadata": {
  "kernelspec": {
   "display_name": "Python 3",
   "language": "python",
   "name": "python3"
  },
  "language_info": {
   "codemirror_mode": {
    "name": "ipython",
    "version": 3
   },
   "file_extension": ".py",
   "mimetype": "text/x-python",
   "name": "python",
   "nbconvert_exporter": "python",
   "pygments_lexer": "ipython3",
   "version": "3.5.6"
  }
 },
 "nbformat": 4,
 "nbformat_minor": 2
}
