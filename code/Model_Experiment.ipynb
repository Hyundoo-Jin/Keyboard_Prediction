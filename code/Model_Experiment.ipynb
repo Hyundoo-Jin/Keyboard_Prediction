{
 "cells": [
  {
   "cell_type": "code",
   "execution_count": 1,
   "metadata": {},
   "outputs": [],
   "source": [
    "import tensorflow as tf\n",
    "import numpy as np\n",
    "import os, sys\n",
    "import time\n",
    "from tqdm import tqdm\n",
    "import time\n",
    "import pickle\n",
    "import gensim"
   ]
  },
  {
   "cell_type": "code",
   "execution_count": 2,
   "metadata": {},
   "outputs": [],
   "source": [
    "with open('../data/wikinews/wiki_train.pkl', 'rb') as f :\n",
    "    train_data, seq_length = pickle.load(f)"
   ]
  },
  {
   "cell_type": "code",
   "execution_count": 3,
   "metadata": {},
   "outputs": [],
   "source": [
    "with open('../data/wikinews/word_vocab.pkl', 'rb') as f :\n",
    "    word_vocab = pickle.load(f)"
   ]
  },
  {
   "cell_type": "code",
   "execution_count": 4,
   "metadata": {},
   "outputs": [
    {
     "data": {
      "text/plain": [
       "array([    3,   170,    94,    98,    53,    81,    83,    62,     9,\n",
       "         392,   436,    98,  1057,    25, 10217,    17,   137,     2,\n",
       "         769,     7,   601,   630,     4,     1,     1,     1,     1,\n",
       "           1,     1,     1])"
      ]
     },
     "execution_count": 4,
     "metadata": {},
     "output_type": "execute_result"
    }
   ],
   "source": []
  },
  {
   "cell_type": "code",
   "execution_count": 4,
   "metadata": {},
   "outputs": [],
   "source": [
    "vocab_size = len(word_vocab) - 1"
   ]
  },
  {
   "cell_type": "code",
   "execution_count": 5,
   "metadata": {},
   "outputs": [],
   "source": [
    "batch_size = 256"
   ]
  },
  {
   "cell_type": "code",
   "execution_count": 6,
   "metadata": {},
   "outputs": [],
   "source": [
    "num_units = 256"
   ]
  },
  {
   "cell_type": "code",
   "execution_count": 7,
   "metadata": {},
   "outputs": [],
   "source": [
    "mode = 'self'"
   ]
  },
  {
   "cell_type": "code",
   "execution_count": 8,
   "metadata": {},
   "outputs": [],
   "source": [
    "with tf.variable_scope('model') :\n",
    "    train_x, train_y = train_data[:256], train_data[:256]\n",
    "    output_lengths = input_lengths = tf.to_int32(seq_length[:256])"
   ]
  },
  {
   "cell_type": "code",
   "execution_count": 9,
   "metadata": {},
   "outputs": [],
   "source": [
    "input_embed = tf.contrib.layers.embed_sequence(\n",
    "        train_x, vocab_size = vocab_size, embed_dim = num_units, scope='embed')\n",
    "output_embed = tf.contrib.layers.embed_sequence(\n",
    "        train_y, vocab_size = vocab_size, embed_dim = num_units, scope='embed', reuse=True)\n",
    "with tf.variable_scope('embed', reuse=True):\n",
    "    embeddings = tf.get_variable('embeddings')"
   ]
  },
  {
   "cell_type": "code",
   "execution_count": 10,
   "metadata": {},
   "outputs": [],
   "source": [
    "cell = tf.contrib.rnn.LSTMCell(num_units)\n",
    "encoder_outputs, encoder_state = tf.nn.dynamic_rnn(cell, input_embed, dtype = tf.float32)\n",
    "train_helper = tf.contrib.seq2seq.TrainingHelper(output_embed, output_lengths)"
   ]
  },
  {
   "cell_type": "code",
   "execution_count": 11,
   "metadata": {},
   "outputs": [],
   "source": [
    "pred_helper = tf.contrib.seq2seq.GreedyEmbeddingHelper(\n",
    "    embeddings, start_tokens = tf.to_int32([3] * batch_size), end_token = 4)"
   ]
  },
  {
   "cell_type": "code",
   "execution_count": 12,
   "metadata": {},
   "outputs": [],
   "source": [
    "def decode(helper, scope_name, reuse = tf.AUTO_REUSE) :\n",
    "    with tf.variable_scope(scope_name, reuse = reuse):\n",
    "        attention_mechanism = tf.contrib.seq2seq.BahdanauAttention(\n",
    "            num_units = num_units, memory = encoder_outputs,\n",
    "            memory_sequence_length = input_lengths)\n",
    "        cell = tf.contrib.rnn.LSTMCell(num_units)\n",
    "        attn_cell = tf.contrib.seq2seq.AttentionWrapper(\n",
    "            cell, attention_mechanism, attention_layer_size = num_units / 2)\n",
    "        out_cell = tf.contrib.rnn.OutputProjectionWrapper(\n",
    "            attn_cell, vocab_size, reuse = reuse\n",
    "        )\n",
    "        decoder = tf.contrib.seq2seq.BasicDecoder(\n",
    "            cell = out_cell, helper = helper,\n",
    "            initial_state = out_cell.zero_state(\n",
    "                dtype = tf.float32, batch_size = batch_size))\n",
    "#             initial_state = encoder_state)\n",
    "        outputs = tf.contrib.seq2seq.dynamic_decode(\n",
    "            decoder = decoder, output_time_major = False,\n",
    "            impute_finished = True, maximum_iterations = 30\n",
    "        )\n",
    "    return outputs[0]"
   ]
  },
  {
   "cell_type": "code",
   "execution_count": 22,
   "metadata": {},
   "outputs": [],
   "source": [
    "global_step = tf.Variable(0, trainable=False)\n",
    "starter_learning_rate = 0.001\n",
    "learning_rate = tf.train.exponential_decay(starter_learning_rate, global_step,\n",
    "                                           100, 0.95, staircase = True)"
   ]
  },
  {
   "cell_type": "code",
   "execution_count": 26,
   "metadata": {},
   "outputs": [
    {
     "data": {
      "text/plain": [
       "<tf.Tensor 'predictions_1:0' shape=(?,) dtype=int32>"
      ]
     },
     "execution_count": 26,
     "metadata": {},
     "output_type": "execute_result"
    }
   ],
   "source": [
    "train_outputs = decode(train_helper, 'decode')\n",
    "pred_outputs = decode(pred_helper, 'decode', reuse = True)\n",
    "\n",
    "tf.identity(train_outputs.sample_id[0], name = 'train_pred')\n",
    "weights = tf.to_float(tf.not_equal(train_y, 1))\n",
    "loss = tf.contrib.seq2seq.sequence_loss(\n",
    "    train_outputs.rnn_output, tf.to_int32(train_y), weights = weights)\n",
    "train_op = tf.contrib.layers.optimize_loss(\n",
    "    loss, tf.train.get_global_step(),\n",
    "    optimizer = 'Adam',\n",
    "    learning_rate = learning_rate,\n",
    "    summaries = ['loss', 'learning_rate'])\n",
    "\n",
    "tf.identity(pred_outputs.sample_id[0], name='predictions')"
   ]
  },
  {
   "cell_type": "code",
   "execution_count": 30,
   "metadata": {},
   "outputs": [
    {
     "ename": "TypeError",
     "evalue": "__init__() got an unexpected keyword argument 'train_op'",
     "output_type": "error",
     "traceback": [
      "\u001b[0;31m---------------------------------------------------------------------------\u001b[0m",
      "\u001b[0;31mTypeError\u001b[0m                                 Traceback (most recent call last)",
      "\u001b[0;32m<ipython-input-30-49646a0ed195>\u001b[0m in \u001b[0;36m<module>\u001b[0;34m()\u001b[0m\n\u001b[1;32m      3\u001b[0m     \u001b[0mpredictions\u001b[0m \u001b[0;34m=\u001b[0m \u001b[0mpred_outputs\u001b[0m\u001b[0;34m.\u001b[0m\u001b[0msample_id\u001b[0m\u001b[0;34m,\u001b[0m\u001b[0;34m\u001b[0m\u001b[0m\n\u001b[1;32m      4\u001b[0m     \u001b[0mloss\u001b[0m \u001b[0;34m=\u001b[0m \u001b[0mloss\u001b[0m\u001b[0;34m,\u001b[0m\u001b[0;34m\u001b[0m\u001b[0m\n\u001b[0;32m----> 5\u001b[0;31m     train_op = train_op)\n\u001b[0m",
      "\u001b[0;31mTypeError\u001b[0m: __init__() got an unexpected keyword argument 'train_op'"
     ]
    }
   ],
   "source": [
    "estimator = tf.estimator.Estimator(\n",
    "    mode = mode,\n",
    "    predictions = pred_outputs.sample_id,\n",
    "    loss = loss,\n",
    "    train_op = train_op)"
   ]
  },
  {
   "cell_type": "code",
   "execution_count": 29,
   "metadata": {},
   "outputs": [
    {
     "ename": "AttributeError",
     "evalue": "'EstimatorSpec' object has no attribute 'train'",
     "output_type": "error",
     "traceback": [
      "\u001b[0;31m---------------------------------------------------------------------------\u001b[0m",
      "\u001b[0;31mAttributeError\u001b[0m                            Traceback (most recent call last)",
      "\u001b[0;32m<ipython-input-29-1a5be419f36a>\u001b[0m in \u001b[0;36m<module>\u001b[0;34m()\u001b[0m\n\u001b[0;32m----> 1\u001b[0;31m \u001b[0mestimator\u001b[0m\u001b[0;34m.\u001b[0m\u001b[0mtrain\u001b[0m\u001b[0;34m(\u001b[0m\u001b[0;34m)\u001b[0m\u001b[0;34m\u001b[0m\u001b[0m\n\u001b[0m",
      "\u001b[0;31mAttributeError\u001b[0m: 'EstimatorSpec' object has no attribute 'train'"
     ]
    }
   ],
   "source": [
    "estimator.train()"
   ]
  },
  {
   "cell_type": "code",
   "execution_count": null,
   "metadata": {},
   "outputs": [],
   "source": []
  }
 ],
 "metadata": {
  "kernelspec": {
   "display_name": "Python 3",
   "language": "python",
   "name": "python3"
  },
  "language_info": {
   "codemirror_mode": {
    "name": "ipython",
    "version": 3
   },
   "file_extension": ".py",
   "mimetype": "text/x-python",
   "name": "python",
   "nbconvert_exporter": "python",
   "pygments_lexer": "ipython3",
   "version": "3.5.6"
  }
 },
 "nbformat": 4,
 "nbformat_minor": 2
}
