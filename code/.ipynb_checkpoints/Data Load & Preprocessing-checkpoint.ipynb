{
 "cells": [
  {
   "cell_type": "code",
   "execution_count": 1,
   "metadata": {},
   "outputs": [],
   "source": [
    "import sys, os\n",
    "from gensim.corpora import WikiCorpus\n",
    "from tqdm import tqdm\n",
    "import pickle\n",
    "import pandas as pd\n",
    "import numpy as np\n",
    "import re"
   ]
  },
  {
   "cell_type": "markdown",
   "metadata": {},
   "source": [
    "### Wikipedia 데이터는 pre-trained 모델 사용(메모리, 스토리지 문제)"
   ]
  },
  {
   "cell_type": "code",
   "execution_count": 2,
   "metadata": {},
   "outputs": [],
   "source": [
    "# output = open('../data/wiki_eng.data', 'w')\n",
    "# wiki = WikiCorpus('../data/enwiki-latest-pages-articles.xml.bz2')\n",
    "# i = 0\n",
    "# for text in tqdm(wiki.get_texts()) :\n",
    "#     output.write(bytes(' '.join(text), 'utf-8').decode('utf-8') + '\\n')\n",
    "#     i = i + 1\n",
    "# output.close()\n",
    "# print('Processing complete!')"
   ]
  },
  {
   "cell_type": "markdown",
   "metadata": {},
   "source": [
    "### SMS_Spam_Collection"
   ]
  },
  {
   "cell_type": "code",
   "execution_count": 3,
   "metadata": {},
   "outputs": [],
   "source": [
    "def clean_sms(s):\n",
    "    # only include alphanumerics\n",
    "    s = re.sub(r\"[^A-Za-z0-9(),.!?\\'\\`&]\", \" \", s)\n",
    "    \n",
    "    # insert spaces in special characters\n",
    "    s = re.sub(r\",\", \" , \", s)\n",
    "    s = re.sub(r\"!\", \" ! \", s)\n",
    "    s = re.sub(r\"\\(\", \" \\( \", s)\n",
    "    s = re.sub(r\"\\)\", \" \\) \", s)\n",
    "    s = re.sub(r\"\\?\", \" \\? \", s)\n",
    "    s = re.sub(r\"\\&\", \" \\& \", s)\n",
    "    \n",
    "    # only include alphanumerics again\n",
    "    s = re.sub(r\"[^A-Za-z0-9(),.!?\\'\\`&]\", \" \", s)\n",
    "    \n",
    "    # chagne all numbers to <num> tag\n",
    "    s = re.sub(r\"[0-9]{1,}\", \"<num> \", s)\n",
    "    \n",
    "    # reduce multiple spaces to single spaces\n",
    "    s = re.sub(r\"\\s{2,}\", \" \", s)\n",
    "    \n",
    "    # reduce multiple dots to single dot\n",
    "    s = re.sub(r\"\\.{2,}\", \".\", s)\n",
    "    s = re.sub(r\"\\.\", \" . \", s)\n",
    "    return s.strip().lower()"
   ]
  },
  {
   "cell_type": "code",
   "execution_count": 4,
   "metadata": {},
   "outputs": [],
   "source": [
    "sms_data = pd.read_csv('../data/raw/sms-spam.csv', encoding = 'ISO-8859-1')"
   ]
  },
  {
   "cell_type": "code",
   "execution_count": 5,
   "metadata": {},
   "outputs": [],
   "source": [
    "sms_text = sms_data.v2.values"
   ]
  },
  {
   "cell_type": "code",
   "execution_count": 6,
   "metadata": {},
   "outputs": [],
   "source": [
    "sms_text_cleaned = np.vectorize(clean_sms)(sms_text)"
   ]
  },
  {
   "cell_type": "code",
   "execution_count": 7,
   "metadata": {},
   "outputs": [],
   "source": [
    "# add <s> </s> tag for all sentence\n",
    "sms_text_cleaned = np.vectorize(lambda x : '<s> ' + x + ' </s>')(sms_text_cleaned)"
   ]
  },
  {
   "cell_type": "code",
   "execution_count": 8,
   "metadata": {},
   "outputs": [],
   "source": [
    "with open('../data/eng/sms.pickle', 'wb') as f :\n",
    "    pickle.dump(sms_text_cleaned, f)"
   ]
  },
  {
   "cell_type": "code",
   "execution_count": 9,
   "metadata": {},
   "outputs": [],
   "source": [
    "del sms_data, sms_text, sms_text_cleaned, clean_sms"
   ]
  },
  {
   "cell_type": "markdown",
   "metadata": {},
   "source": [
    "### Twitter data"
   ]
  },
  {
   "cell_type": "code",
   "execution_count": 10,
   "metadata": {},
   "outputs": [],
   "source": [
    "twitter_data = pd.read_csv('../data/raw/sentiment140.csv', encoding = 'ISO-8859-1', header = None)"
   ]
  },
  {
   "cell_type": "code",
   "execution_count": 11,
   "metadata": {},
   "outputs": [],
   "source": [
    "twitter_text = twitter_data[5].values"
   ]
  },
  {
   "cell_type": "code",
   "execution_count": 12,
   "metadata": {},
   "outputs": [],
   "source": [
    "def clean_twits(s):\n",
    "    # del url and tag(@)\n",
    "    s = re.sub(r'http\\S+', '', s)\n",
    "    s = re.sub('\\@\\S+', '', s)\n",
    "    \n",
    "    # only include alphanumerics\n",
    "    s = re.sub(r\"[^A-Za-z0-9(),.!?;:\\'\\`&]\", \" \", s)   # added ; and : because of emoji\n",
    "    \n",
    "    # insert spaces in special characters\n",
    "    s = re.sub(r\",\", \" , \", s)\n",
    "    s = re.sub(r\"!\", \" ! \", s)\n",
    "    s = re.sub(r\"\\?\", \" \\? \", s)\n",
    "    s = re.sub(r\"\\&\", \" \\& \", s)\n",
    "    \n",
    "    # only include alphanumerics again\n",
    "    s = re.sub(r\"[^A-Za-z0-9(),.!?;:\\'\\`&]\", \" \", s)\n",
    "    \n",
    "    # chagne all numbers to <num> tag\n",
    "    s = re.sub(r\"[0-9]{1,}\", \"<num> \", s)\n",
    "    \n",
    "    # reduce multiple spaces to single spaces\n",
    "    s = re.sub(r\"\\s{2,}\", \" \", s)\n",
    "    \n",
    "    # reduce multiple dots to single dot\n",
    "    s = re.sub(r\"\\.{2,}\", \".\", s)\n",
    "    s = re.sub(r\"\\.\", \" . \", s)\n",
    "    return s.strip().lower()"
   ]
  },
  {
   "cell_type": "code",
   "execution_count": 13,
   "metadata": {},
   "outputs": [],
   "source": [
    "twitter_text_cleaned = np.vectorize(clean_twits)(twitter_text)"
   ]
  },
  {
   "cell_type": "code",
   "execution_count": 14,
   "metadata": {},
   "outputs": [],
   "source": [
    "# add <s> </s> tag for all sentence\n",
    "twitter_text_cleaned = np.vectorize(lambda x : '<s> ' + x + ' </s>')(twitter_text_cleaned)"
   ]
  },
  {
   "cell_type": "code",
   "execution_count": 15,
   "metadata": {},
   "outputs": [],
   "source": [
    "with open('../data/eng/twitter.pickle', 'wb') as f :\n",
    "    pickle.dump(twitter_text_cleaned, f)"
   ]
  },
  {
   "cell_type": "code",
   "execution_count": 16,
   "metadata": {},
   "outputs": [],
   "source": [
    "del twitter_data, twitter_text, twitter_text_cleaned, clean_twits"
   ]
  },
  {
   "cell_type": "markdown",
   "metadata": {},
   "source": [
    "### 한국어 Wikidata"
   ]
  },
  {
   "cell_type": "code",
   "execution_count": 17,
   "metadata": {},
   "outputs": [],
   "source": [
    "# wiki = WikiCorpus('../data/raw/kowiki-20181101-pages-articles.xml.bz2')"
   ]
  },
  {
   "cell_type": "code",
   "execution_count": 18,
   "metadata": {},
   "outputs": [],
   "source": [
    "# output = open('../data/kor/wiki_kor.data', 'w')\n",
    "# i = 0\n",
    "# for text in tqdm(wiki.get_texts()) :\n",
    "#     output.write(bytes(' '.join(text), 'utf-8').decode('utf-8') + '\\n')\n",
    "#     i = i + 1\n",
    "# output.close()\n",
    "# print('Processing complete!')"
   ]
  },
  {
   "cell_type": "code",
   "execution_count": 19,
   "metadata": {},
   "outputs": [],
   "source": [
    "# del wiki"
   ]
  },
  {
   "cell_type": "markdown",
   "metadata": {},
   "source": [
    "### Naver Kin"
   ]
  },
  {
   "cell_type": "code",
   "execution_count": 20,
   "metadata": {},
   "outputs": [],
   "source": [
    "kin_data = pd.read_csv('../data/raw/raw_kin_data.csv')"
   ]
  },
  {
   "cell_type": "code",
   "execution_count": 21,
   "metadata": {},
   "outputs": [],
   "source": [
    "kin_text = kin_data.text.values.astype(np.str).tolist()"
   ]
  },
  {
   "cell_type": "code",
   "execution_count": 22,
   "metadata": {},
   "outputs": [],
   "source": [
    "def clean_kin(s) :\n",
    "    # del url\n",
    "    s = re.sub(r'http\\S+', '', s)\n",
    "    \n",
    "    # only include alphanumerics\n",
    "    s = re.sub(r\"[^A-Za-z0-9가-힣(),.!?\\'\\`&]\", \" \", s)\n",
    "    \n",
    "    # insert spaces in special characters\n",
    "    s = re.sub(r\",\", \" , \", s)\n",
    "    s = re.sub(r\"!\", \" ! \", s)\n",
    "    s = re.sub(r\"\\?\", \" \\? \", s)\n",
    "    s = re.sub(r\"\\&\", \" \\& \", s)\n",
    "        \n",
    "    # replace \\xa0 tag\n",
    "    s = re.sub(r\"\\xa0\", \" \", s)\n",
    "    \n",
    "    # only include alphanumerics again\n",
    "    s = re.sub(r\"[^A-Za-z0-9가-힣(),.!?\\'\\`&]\", \" \", s)\n",
    "    \n",
    "    # chagne all numbers to <num> tag\n",
    "    s = re.sub(r\"[0-9]{1,}\", \"<num> \", s)\n",
    "    \n",
    "    # reduce multiple spaces to single spaces\n",
    "    s = re.sub(r\"\\s{2,}\", \" \", s)\n",
    "    \n",
    "    # reduce multiple dots to single dot\n",
    "    s = re.sub(r\"\\.{2,}\", \".\", s)\n",
    "    s = re.sub(r\"\\.\", \" . \", s)\n",
    "    \n",
    "    return s.strip().lower()"
   ]
  },
  {
   "cell_type": "code",
   "execution_count": 23,
   "metadata": {},
   "outputs": [],
   "source": [
    "def sentence_slicer(text) :\n",
    "    result = list()\n",
    "    splited_text = [a + '다.' for a in text.split('다.')]\n",
    "    if len(splited_text) > 1 :\n",
    "        del splited_text[-1]\n",
    "    else :\n",
    "        splited_text[0] = splited_text[0][:-2]\n",
    "    for sentence in splited_text : \n",
    "        if '요.' in sentence :\n",
    "            splited_sentence = [a + '요.' for a in sentence.split('요.')]\n",
    "            splited_sentence[-1] = splited_sentence[-1][:-2]\n",
    "            result.extend(splited_sentence)\n",
    "        else :\n",
    "            result.extend([sentence])\n",
    "    return result"
   ]
  },
  {
   "cell_type": "code",
   "execution_count": 24,
   "metadata": {},
   "outputs": [],
   "source": [
    "kin_text_cleaned = list()\n",
    "for sentence in kin_text :\n",
    "    kin_text_cleaned.extend(sentence_slicer(clean_kin(sentence)))"
   ]
  },
  {
   "cell_type": "code",
   "execution_count": 25,
   "metadata": {},
   "outputs": [],
   "source": [
    "# add <s> </s> tag for all sentence\n",
    "kin_text_cleaned = np.vectorize(lambda x : '<s> ' + x + ' </s>')(kin_text_cleaned)"
   ]
  },
  {
   "cell_type": "code",
   "execution_count": 26,
   "metadata": {},
   "outputs": [],
   "source": [
    "with open('../data/kor/kin.pickle', 'wb') as f :\n",
    "    pickle.dump(kin_text_cleaned, f)"
   ]
  },
  {
   "cell_type": "markdown",
   "metadata": {},
   "source": [
    "### Naver movie reply"
   ]
  },
  {
   "cell_type": "code",
   "execution_count": 28,
   "metadata": {},
   "outputs": [],
   "source": [
    "def clean_movie(s) :\n",
    "    # del url\n",
    "    s = re.sub(r'http\\S+', '', s)\n",
    "    \n",
    "    # only include alphanumerics\n",
    "    s = re.sub(r\"[^A-Za-z0-9가-힣(),.!?\\'\\`&]\", \" \", s)\n",
    "    \n",
    "    # insert spaces in special characters\n",
    "    s = re.sub(r\",\", \" , \", s)\n",
    "    s = re.sub(r\"!\", \" ! \", s)\n",
    "    s = re.sub(r\"\\?\", \" \\? \", s)\n",
    "    s = re.sub(r\"\\&\", \" \\& \", s)\n",
    "\n",
    "    # only include alphanumerics again\n",
    "    s = re.sub(r\"[^A-Za-z0-9가-힣(),.!?\\'\\`&]\", \" \", s)\n",
    "    \n",
    "    # chagne all numbers to <num> tag\n",
    "    s = re.sub(r\"[0-9]{1,}\", \"<num> \", s)\n",
    "    \n",
    "    # reduce multiple spaces to single spaces\n",
    "    s = re.sub(r\"\\s{2,}\", \" \", s)\n",
    "    \n",
    "    # reduce multiple dots to single dot\n",
    "    s = re.sub(r\"\\.{2,}\", \".\", s)\n",
    "    s = re.sub(r\"\\.\", \" . \", s)\n",
    "    \n",
    "    return s.strip().lower()"
   ]
  },
  {
   "cell_type": "code",
   "execution_count": 29,
   "metadata": {},
   "outputs": [],
   "source": [
    "reply_data = pd.read_csv('../data/raw/naver_movie.txt', delimiter='\\t')"
   ]
  },
  {
   "cell_type": "code",
   "execution_count": 30,
   "metadata": {},
   "outputs": [],
   "source": [
    "reply_text = reply_data.document.astype(np.str).values"
   ]
  },
  {
   "cell_type": "code",
   "execution_count": 31,
   "metadata": {},
   "outputs": [],
   "source": [
    "reply_text_cleaned = np.vectorize(clean_movie)(reply_text)"
   ]
  },
  {
   "cell_type": "code",
   "execution_count": 32,
   "metadata": {},
   "outputs": [],
   "source": [
    "reply_text_cleaned = np.vectorize(lambda x : '<s> ' + x + ' </s>')(reply_text_cleaned)"
   ]
  },
  {
   "cell_type": "code",
   "execution_count": 33,
   "metadata": {},
   "outputs": [
    {
     "data": {
      "text/plain": [
       "array(['<s> 어릴때보고 지금다시봐도 재밌어요 </s>',\n",
       "       '<s> 디자인을 배우는 학생으로 , 외국디자이너와 그들이 일군 전통을 통해 발전해가는 문화산업이 부러웠는데 .  사실 우리나라에서도 그 어려운시절에 끝까지 열정을 지킨 노라노 같은 전통이있어 저와 같은 사람들이 꿈을 꾸고 이뤄나갈 수 있다는 것에 감사합니다 . </s>',\n",
       "       '<s> 폴리스스토리 시리즈는 <num> 부터 뉴까지 버릴께 하나도 없음 .  최고 . </s>', ...,\n",
       "       '<s> 완전 사이코영화 .  마지막은 더욱더 이 영화의질을 떨어트린다 . </s>',\n",
       "       '<s> 왜난 재미없었지 라따뚜이 보고나서 스머프 봐서 그런가 </s>', '<s> 포풍저그가나가신다영차영차영차 </s>'], \n",
       "      dtype='<U218')"
      ]
     },
     "execution_count": 33,
     "metadata": {},
     "output_type": "execute_result"
    }
   ],
   "source": [
    "reply_text_cleaned"
   ]
  },
  {
   "cell_type": "code",
   "execution_count": 34,
   "metadata": {},
   "outputs": [],
   "source": [
    "with open('../data/kor/movie.pickle', 'wb') as f :\n",
    "    pickle.dump(reply_text_cleaned, f)"
   ]
  },
  {
   "cell_type": "code",
   "execution_count": 35,
   "metadata": {},
   "outputs": [],
   "source": [
    "del reply_data, reply_text, reply_text_cleaned, clean_movie"
   ]
  },
  {
   "cell_type": "code",
   "execution_count": null,
   "metadata": {},
   "outputs": [],
   "source": []
  }
 ],
 "metadata": {
  "kernelspec": {
   "display_name": "Python 3",
   "language": "python",
   "name": "python3"
  },
  "language_info": {
   "codemirror_mode": {
    "name": "ipython",
    "version": 3
   },
   "file_extension": ".py",
   "mimetype": "text/x-python",
   "name": "python",
   "nbconvert_exporter": "python",
   "pygments_lexer": "ipython3",
   "version": "3.5.4"
  }
 },
 "nbformat": 4,
 "nbformat_minor": 1
}
